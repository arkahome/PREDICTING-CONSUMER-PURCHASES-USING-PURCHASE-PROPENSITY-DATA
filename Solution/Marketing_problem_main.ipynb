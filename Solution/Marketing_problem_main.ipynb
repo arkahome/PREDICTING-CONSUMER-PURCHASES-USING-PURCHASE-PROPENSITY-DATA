{
 "cells": [
  {
   "cell_type": "code",
   "execution_count": 1,
   "metadata": {},
   "outputs": [],
   "source": [
    "import numpy as np\n",
    "import pandas as pd\n",
    "import matplotlib.pyplot as plt\n",
    "import seaborn as sns\n",
    "%matplotlib inline"
   ]
  },
  {
   "cell_type": "code",
   "execution_count": 2,
   "metadata": {},
   "outputs": [],
   "source": [
    "# i = Consumer ID\n",
    "# j = Product Category\n",
    "data=pd.read_csv('train.csv')"
   ]
  },
  {
   "cell_type": "code",
   "execution_count": 3,
   "metadata": {},
   "outputs": [],
   "source": [
    "import itertools as it"
   ]
  },
  {
   "cell_type": "code",
   "execution_count": 4,
   "metadata": {},
   "outputs": [],
   "source": [
    "data_new=pd.DataFrame(list(it.product(list(np.arange(2000)),list(np.arange(40)),list(np.arange(48)))),columns=['i','j','t'])\n",
    "data_new2=data_new.copy()\n",
    "data['buy']=1\n",
    "data_merge=data_new2.merge(data, how='left')\n",
    "data_merge.fillna(0,inplace=True)"
   ]
  },
  {
   "cell_type": "code",
   "execution_count": 5,
   "metadata": {},
   "outputs": [],
   "source": [
    "#import pickle\n",
    "#data_merge=pd.read_pickle('data_merge')\n",
    "price=data_merge[data_merge['buy']==1].drop_duplicates('j').loc[:,['j','price']].sort_values('j').reset_index().drop(['index','j'],axis=1)"
   ]
  },
  {
   "cell_type": "code",
   "execution_count": 6,
   "metadata": {},
   "outputs": [
    {
     "name": "stderr",
     "output_type": "stream",
     "text": [
      "C:\\Users\\abandyop\\AppData\\Local\\Continuum\\Anaconda3\\lib\\site-packages\\ipykernel_launcher.py:5: FutureWarning: set_value is deprecated and will be removed in a future release. Please use .at[] or .iat[] accessors instead\n",
      "  \"\"\"\n"
     ]
    }
   ],
   "source": [
    "#SUPER FASTTTTT\n",
    "for index, row in enumerate(data_merge['j'].values):\n",
    "    try:\n",
    "        if(data_merge.at[index,'price']==0.0):\n",
    "            data_merge.set_value(index, 'price', price.loc[row,'price']) #row, column, value\n",
    "    except:\n",
    "        pass"
   ]
  },
  {
   "cell_type": "code",
   "execution_count": 6,
   "metadata": {},
   "outputs": [],
   "source": [
    "cust_prod=pd.crosstab(data['i'], data['j'])\n",
    "from sklearn.decomposition import PCA\n",
    "pca = PCA(n_components=2)\n",
    "pca.fit(cust_prod)\n",
    "pca_samples = pca.transform(cust_prod)\n",
    "from sklearn.decomposition import PCA\n",
    "pca = PCA(n_components=2)\n",
    "pca.fit(cust_prod)\n",
    "pca_samples = pca.transform(cust_prod)\n",
    "ps = pd.DataFrame(pca_samples)\n",
    "tocluster = pd.DataFrame(ps[[0,1]])\n",
    "from sklearn.cluster import KMeans\n",
    "from sklearn.metrics import silhouette_score\n",
    "\n",
    "clusterer = KMeans(n_clusters=4,random_state=42).fit(tocluster)\n",
    "centers = clusterer.cluster_centers_\n",
    "c_preds = clusterer.predict(tocluster)\n",
    "\n",
    "data_merge['cluster']=data_merge['i'].apply(lambda x:c_preds[x])\n"
   ]
  },
  {
   "cell_type": "code",
   "execution_count": 7,
   "metadata": {},
   "outputs": [],
   "source": [
    "data_merge_d=pd.concat([data_merge,pd.get_dummies(data_merge['j'],prefix='P'),pd.get_dummies(data_merge['cluster'],prefix='C')],axis=1)"
   ]
  },
  {
   "cell_type": "code",
   "execution_count": 8,
   "metadata": {},
   "outputs": [],
   "source": [
    "data_merge_d['i'] = data_merge_d['i'].astype('category')\n",
    "data_merge_d['t'] = data_merge_d['t'].astype('category')\n",
    "data_merge_d['advertised'] = data_merge_d['advertised'].astype('category')\n",
    "data_merge_d['buy'] = data_merge_d['buy'].astype('category')\n",
    "\n",
    "\n",
    "#data_merge_d['j'] = data_merge_d['j'].astype('category')"
   ]
  },
  {
   "cell_type": "code",
   "execution_count": 9,
   "metadata": {},
   "outputs": [],
   "source": [
    "X=data_merge_d.drop(['buy','j'],axis=1)\n",
    "y=data_merge.loc[:,'buy']"
   ]
  },
  {
   "cell_type": "code",
   "execution_count": null,
   "metadata": {},
   "outputs": [],
   "source": []
  },
  {
   "cell_type": "code",
   "execution_count": 10,
   "metadata": {},
   "outputs": [],
   "source": [
    "from sklearn.linear_model import LogisticRegression\n",
    "from sklearn import metrics"
   ]
  },
  {
   "cell_type": "code",
   "execution_count": 11,
   "metadata": {},
   "outputs": [],
   "source": [
    "log_model = LogisticRegression()"
   ]
  },
  {
   "cell_type": "code",
   "execution_count": 12,
   "metadata": {},
   "outputs": [
    {
     "data": {
      "text/plain": [
       "LogisticRegression(C=1.0, class_weight=None, dual=False, fit_intercept=True,\n",
       "          intercept_scaling=1, max_iter=100, multi_class='ovr', n_jobs=1,\n",
       "          penalty='l2', random_state=None, solver='liblinear', tol=0.0001,\n",
       "          verbose=0, warm_start=False)"
      ]
     },
     "execution_count": 12,
     "metadata": {},
     "output_type": "execute_result"
    }
   ],
   "source": [
    "log_model.fit(X,y)"
   ]
  },
  {
   "cell_type": "code",
   "execution_count": 13,
   "metadata": {},
   "outputs": [
    {
     "name": "stderr",
     "output_type": "stream",
     "text": [
      "C:\\Users\\abandyop\\AppData\\Local\\Continuum\\Anaconda3\\lib\\site-packages\\ipykernel_launcher.py:6: FutureWarning: set_value is deprecated and will be removed in a future release. Please use .at[] or .iat[] accessors instead\n",
      "  \n",
      "C:\\Users\\abandyop\\AppData\\Local\\Continuum\\Anaconda3\\lib\\site-packages\\ipykernel_launcher.py:8: FutureWarning: set_value is deprecated and will be removed in a future release. Please use .at[] or .iat[] accessors instead\n",
      "  \n"
     ]
    }
   ],
   "source": [
    "data_pred=pd.DataFrame(list(it.product(list(np.arange(2000)),list(np.arange(40)),list(np.arange(1)))),columns=['i','j','t'])\n",
    "data_pred['t']=50\n",
    "#Inserting Price Data\n",
    "for index, row in enumerate(data_pred['j'].values):\n",
    "    if(row!=24): #for item 24 having  20% discount\n",
    "        data_pred.set_value(index, 'price', price.loc[row,'price']) #row, column, value\n",
    "    else:\n",
    "        data_pred.set_value(index, 'price', price.loc[row,'price']*0.80)\n",
    "data_pred['advertised']=data_pred['j'].apply(lambda x:1 if(x==24) else 0)\n",
    "data_pred['cluster']=data_pred['i'].apply(lambda x:c_preds[x])"
   ]
  },
  {
   "cell_type": "code",
   "execution_count": null,
   "metadata": {},
   "outputs": [],
   "source": []
  },
  {
   "cell_type": "code",
   "execution_count": 14,
   "metadata": {},
   "outputs": [],
   "source": [
    "data_pred_d= pd.concat([data_pred,pd.get_dummies(data_pred['j'],prefix='P'),pd.get_dummies(data_pred['cluster'],prefix='C')],axis=1)\n",
    "data_pred_d['i'] = data_pred_d['i'].astype('category')\n",
    "data_pred_d['t'] = data_pred_d['t'].astype('category')\n",
    "data_pred_d['advertised'] = data_pred_d['advertised'].astype('category')\n",
    "#data_pred_d['j'] = data_pred_d['j'].astype('category')\n",
    "data_pred_d.drop('j',axis=1,inplace=True)"
   ]
  },
  {
   "cell_type": "code",
   "execution_count": 15,
   "metadata": {},
   "outputs": [
    {
     "data": {
      "text/plain": [
       "(80000, 49)"
      ]
     },
     "execution_count": 15,
     "metadata": {},
     "output_type": "execute_result"
    }
   ],
   "source": [
    "data_pred_d.shape"
   ]
  },
  {
   "cell_type": "code",
   "execution_count": 16,
   "metadata": {},
   "outputs": [],
   "source": [
    "k=log_model.predict(data_pred_d)"
   ]
  },
  {
   "cell_type": "code",
   "execution_count": 17,
   "metadata": {},
   "outputs": [],
   "source": [
    "prediction=data_pred.loc[:,['i','j']]"
   ]
  },
  {
   "cell_type": "code",
   "execution_count": 18,
   "metadata": {},
   "outputs": [],
   "source": [
    "prediction['prediction']=log_model.predict_proba(data_pred_d)[:,1]"
   ]
  },
  {
   "cell_type": "code",
   "execution_count": 20,
   "metadata": {},
   "outputs": [],
   "source": [
    "prediction.to_csv('prediction_answer.csv',index=False)"
   ]
  },
  {
   "cell_type": "code",
   "execution_count": null,
   "metadata": {},
   "outputs": [],
   "source": []
  },
  {
   "cell_type": "code",
   "execution_count": null,
   "metadata": {
    "collapsed": true
   },
   "outputs": [],
   "source": []
  },
  {
   "cell_type": "code",
   "execution_count": null,
   "metadata": {},
   "outputs": [],
   "source": []
  }
 ],
 "metadata": {
  "kernelspec": {
   "display_name": "Python 3",
   "language": "python",
   "name": "python3"
  },
  "language_info": {
   "codemirror_mode": {
    "name": "ipython",
    "version": 3
   },
   "file_extension": ".py",
   "mimetype": "text/x-python",
   "name": "python",
   "nbconvert_exporter": "python",
   "pygments_lexer": "ipython3",
   "version": "3.6.3"
  }
 },
 "nbformat": 4,
 "nbformat_minor": 2
}
